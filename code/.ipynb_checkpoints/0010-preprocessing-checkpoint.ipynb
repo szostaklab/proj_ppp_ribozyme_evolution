{
 "cells": [
  {
   "cell_type": "code",
   "execution_count": 1,
   "id": "c940c13f",
   "metadata": {},
   "outputs": [],
   "source": [
    "import pandas as pd"
   ]
  },
  {
   "cell_type": "code",
   "execution_count": 2,
   "id": "d1d38e65",
   "metadata": {},
   "outputs": [],
   "source": [
    "##Remove sequences with low quality reads"
   ]
  },
  {
   "cell_type": "code",
   "execution_count": 3,
   "id": "106b893b",
   "metadata": {},
   "outputs": [],
   "source": [
    "def filter_by_quality(path, filenames, quality_cutoff, rounds):\n",
    "    uploaded_files = []\n",
    "    \n",
    "    for file in filenames:\n",
    "        uploaded_files.append(open(path+file).readlines())\n",
    "\n",
    "    all_seqs = []\n",
    "    all_high_qual_seqs=[]\n",
    "\n",
    "    for file in range(rounds):\n",
    "        print(file)\n",
    "        quality = uploaded_files[file][3::4]\n",
    "        seqs = uploaded_files[file][1::4]\n",
    "\n",
    "        all_seqs.append(seqs)\n",
    "\n",
    "        origonal_seqs = all_seqs\n",
    "      \n",
    "        high_quality = []\n",
    "        acceptable_quals_1_percent_error = [5,6,7,8,9,':',';', '<', '=', '>', '?', '@', 'A', 'B', 'C', 'D', 'E', 'F', 'G', 'H', 'I', 'J', 'K']\n",
    "        \n",
    "        for seq in range(len(quality)):\n",
    "            overlap=0\n",
    "            for char in list(set(quality[seq]).intersection(acceptable_quals_1_percent_error)):\n",
    "                  overlap+=quality[seq].count(char)\n",
    "\n",
    "            if overlap/len(quality[1]) > quality_cutoff/100:\n",
    "                  high_quality.append(seqs[seq].strip(\"\\n\"))\n",
    "            \n",
    "        all_high_qual_seqs.append(high_quality)\n",
    "    return all_high_qual_seqs, all_seqs"
   ]
  },
  {
   "cell_type": "code",
   "execution_count": 6,
   "id": "3ae91111",
   "metadata": {},
   "outputs": [
    {
     "name": "stdout",
     "output_type": "stream",
     "text": [
      "0\n",
      "1\n",
      "2\n",
      "3\n",
      "4\n",
      "5\n"
     ]
    }
   ],
   "source": [
    "filenames = ['ppp-1_S1_L001_R2_001.fastq',\n",
    "             'ppp-2_S2_L001_R2_001.fastq',\n",
    "             'ppp-3_S3_L001_R2_001.fastq',\n",
    "             'ppp-4_S4_L001_R2_001.fastq',\n",
    "             'ppp-5_S5_L001_R2_001.fastq',\n",
    "             'ppp-6_S6_L001_R2_001.fastq']\n",
    "\n",
    "path_to_files = ''\n",
    "all_high_qual_seqs, all_seqs = filter_by_quality(path_to_files, filenames, 90, 6)\n"
   ]
  },
  {
   "cell_type": "code",
   "execution_count": 7,
   "id": "cd76f0cd",
   "metadata": {},
   "outputs": [],
   "source": [
    "##Trim to include only the 40nt randomized region inside the correct constant region"
   ]
  },
  {
   "cell_type": "code",
   "execution_count": 8,
   "id": "62a699af",
   "metadata": {},
   "outputs": [],
   "source": [
    "def filter_sequences_8nt(sequences):\n",
    "    bp1 = 'GGACAGCG'\n",
    "    bp2 = 'CGCTGTCCT'\n",
    "    bp1_len = len(bp1)\n",
    "    bp2_len = len(bp2)\n",
    "    spacer_len = 40\n",
    "\n",
    "    filtered_sequences = []\n",
    "    \n",
    "    for seq in sequences:\n",
    "        start_bp1 = seq.find(bp1)\n",
    "        if start_bp1 != -1:\n",
    "            start_bp2 = seq.find(bp2, start_bp1 + bp1_len + spacer_len)\n",
    "            if start_bp2 == start_bp1 + bp1_len + spacer_len:\n",
    "                filtered_sequences.append(seq[start_bp1+bp1_len:bp1_len+start_bp1+spacer_len])\n",
    "    \n",
    "    return filtered_sequences\n",
    "\n",
    "def filter_sequences_32nt(sequences):\n",
    "    bp1 = 'ACTCACTGACACAGATCCACTCACGGACAGCG'\n",
    "    bp2 = 'CGCTGTCC'\n",
    "    bp1_len = len(bp1)\n",
    "    bp2_len = len(bp2)\n",
    "    spacer_len = 40\n",
    "\n",
    "    filtered_sequences = []\n",
    "    \n",
    "    for seq in sequences:\n",
    "        start_bp1 = seq.find(bp1)\n",
    "        if start_bp1 != -1:\n",
    "            start_bp2 = seq.find(bp2, start_bp1 + bp1_len + spacer_len)\n",
    "            if start_bp2 == start_bp1 + bp1_len + spacer_len:\n",
    "                filtered_sequences.append(seq[start_bp1+bp1_len:bp1_len+start_bp1+spacer_len])\n",
    "    \n",
    "    return filtered_sequences"
   ]
  },
  {
   "cell_type": "code",
   "execution_count": 9,
   "id": "8f881548",
   "metadata": {},
   "outputs": [
    {
     "name": "stdout",
     "output_type": "stream",
     "text": [
      "0\n",
      "1\n",
      "2\n",
      "3\n",
      "4\n",
      "5\n",
      "0\n",
      "1\n",
      "2\n",
      "3\n",
      "4\n",
      "5\n"
     ]
    }
   ],
   "source": [
    "all_high_qual_seqs_trimmed_8nt = []\n",
    "\n",
    "for round_seqs in all_high_qual_seqs:\n",
    "    print(all_high_qual_seqs.index(round_seqs))\n",
    "    all_high_qual_seqs_trimmed_8nt.append(filter_sequences_8nt(round_seqs))\n",
    "    \n",
    "all_high_qual_seqs_trimmed_32nt = []\n",
    "\n",
    "for round_seqs in all_high_qual_seqs:\n",
    "    print(all_high_qual_seqs.index(round_seqs))\n",
    "    all_high_qual_seqs_trimmed_32nt.append(filter_sequences_32nt(round_seqs))"
   ]
  },
  {
   "cell_type": "code",
   "execution_count": 10,
   "id": "936ad8fa",
   "metadata": {},
   "outputs": [],
   "source": [
    "##Check how many sequences were kept at each step"
   ]
  },
  {
   "cell_type": "code",
   "execution_count": 15,
   "id": "83c5af75",
   "metadata": {},
   "outputs": [
    {
     "name": "stdout",
     "output_type": "stream",
     "text": [
      "     Total  High quality\n",
      "1  2720712       1793335\n",
      "2  2861293       1824368\n",
      "3  1951022       1238531\n",
      "4  3036981       1959238\n",
      "5  2389244       1553726\n",
      "6  2318587       1515844\n"
     ]
    }
   ],
   "source": [
    "summary_stats = pd.DataFrame(columns = ['Total', 'High quality'])\n",
    "for round_num in range(len(all_seqs)):\n",
    "    summary_stats.loc[round_num+1]=(len(all_seqs[round_num]), len(all_high_qual_seqs[round_num]))\n"
   ]
  },
  {
   "cell_type": "code",
   "execution_count": null,
   "id": "4f22a831",
   "metadata": {},
   "outputs": [],
   "source": []
  }
 ],
 "metadata": {
  "kernelspec": {
   "display_name": "Python 3",
   "language": "python",
   "name": "python3"
  },
  "language_info": {
   "codemirror_mode": {
    "name": "ipython",
    "version": 3
   },
   "file_extension": ".py",
   "mimetype": "text/x-python",
   "name": "python",
   "nbconvert_exporter": "python",
   "pygments_lexer": "ipython3",
   "version": "3.8.8"
  }
 },
 "nbformat": 4,
 "nbformat_minor": 5
}
