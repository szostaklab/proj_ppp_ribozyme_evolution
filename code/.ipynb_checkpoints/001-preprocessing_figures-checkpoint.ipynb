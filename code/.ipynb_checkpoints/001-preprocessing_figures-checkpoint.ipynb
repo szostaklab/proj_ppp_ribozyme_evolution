{
 "cells": [
  {
   "cell_type": "code",
   "execution_count": 1,
   "id": "c940c13f",
   "metadata": {},
   "outputs": [],
   "source": [
    "import pandas as pd\n",
    "from collections import Counter\n",
    "import numpy as np\n",
    "import math\n",
    "import matplotlib.pyplot as plt\n",
    "import seaborn as sns\n",
    "import networkx as nx\n",
    "from numpy import inf\n",
    "from numbers import Number\n",
    "from matplotlib.colors import LogNorm, Normalize"
   ]
  },
  {
   "cell_type": "code",
   "execution_count": 2,
   "id": "d1d38e65",
   "metadata": {},
   "outputs": [],
   "source": [
    "##Remove sequences with low quality reads"
   ]
  },
  {
   "cell_type": "code",
   "execution_count": 3,
   "id": "106b893b",
   "metadata": {},
   "outputs": [],
   "source": [
    "def filter_by_quality(path, filenames, quality_cutoff, rounds):\n",
    "    uploaded_files = []\n",
    "    \n",
    "    for file in filenames:\n",
    "        uploaded_files.append(open(path+file).readlines())\n",
    "\n",
    "    all_seqs = []\n",
    "    all_high_qual_seqs=[]\n",
    "\n",
    "    for file in range(rounds):\n",
    "        print(file)\n",
    "        quality = uploaded_files[file][3::4]\n",
    "        seqs = uploaded_files[file][1::4]\n",
    "\n",
    "        all_seqs.append(seqs)\n",
    "\n",
    "        origonal_seqs = all_seqs\n",
    "      \n",
    "        high_quality = []\n",
    "        acceptable_quals_1_percent_error = [5,6,7,8,9,':',';', '<', '=', '>', '?', '@', 'A', 'B', 'C', 'D', 'E', 'F', 'G', 'H', 'I', 'J', 'K']\n",
    "        \n",
    "        for seq in range(len(quality)):\n",
    "            overlap=0\n",
    "            for char in list(set(quality[seq]).intersection(acceptable_quals_1_percent_error)):\n",
    "                  overlap+=quality[seq].count(char)\n",
    "\n",
    "            if overlap/len(quality[1]) > quality_cutoff/100:\n",
    "                  high_quality.append(seqs[seq].strip(\"\\n\"))\n",
    "            \n",
    "        all_high_qual_seqs.append(high_quality)\n",
    "    return all_high_qual_seqs, all_seqs"
   ]
  },
  {
   "cell_type": "code",
   "execution_count": 4,
   "id": "3ae91111",
   "metadata": {},
   "outputs": [
    {
     "name": "stdout",
     "output_type": "stream",
     "text": [
      "0\n",
      "1\n",
      "2\n",
      "3\n",
      "4\n",
      "5\n"
     ]
    }
   ],
   "source": [
    "filenames = ['ppp-1_S1_L001_R2_001.fastq',\n",
    "             'ppp-2_S2_L001_R2_001.fastq',\n",
    "             'ppp-3_S3_L001_R2_001.fastq',\n",
    "             'ppp-4_S4_L001_R2_001.fastq',\n",
    "             'ppp-5_S5_L001_R2_001.fastq',\n",
    "             'ppp-6_S6_L001_R2_001.fastq']\n",
    "\n",
    "path_to_files = 'raw_data/'\n",
    "all_high_qual_seqs, all_seqs = filter_by_quality(path_to_files, filenames, 90, 6)\n"
   ]
  },
  {
   "cell_type": "code",
   "execution_count": 5,
   "id": "cd76f0cd",
   "metadata": {},
   "outputs": [],
   "source": [
    "##Trim to include only the 40nt randomized region inside the correct constant region"
   ]
  },
  {
   "cell_type": "code",
   "execution_count": 6,
   "id": "62a699af",
   "metadata": {},
   "outputs": [],
   "source": [
    "def filter_sequences_32nt(sequences):\n",
    "    bp1 = 'ACTCACTGACACAGATCCACTCACGGACAGCG'\n",
    "    bp2 = 'CGCTGTCC'\n",
    "    bp1_len = len(bp1)\n",
    "    bp2_len = len(bp2)\n",
    "    spacer_len = 40\n",
    "\n",
    "    filtered_sequences = []\n",
    "    \n",
    "    for seq in sequences:\n",
    "        start_bp1 = seq.find(bp1)\n",
    "        if start_bp1 != -1:\n",
    "            start_bp2 = seq.find(bp2, start_bp1 + bp1_len + spacer_len)\n",
    "            if start_bp2 == start_bp1 + bp1_len + spacer_len:\n",
    "                filtered_sequences.append(seq[start_bp1+bp1_len:bp1_len+start_bp1+spacer_len])\n",
    "    \n",
    "    return filtered_sequences"
   ]
  },
  {
   "cell_type": "code",
   "execution_count": 7,
   "id": "8f881548",
   "metadata": {},
   "outputs": [
    {
     "name": "stdout",
     "output_type": "stream",
     "text": [
      "0\n",
      "1\n",
      "2\n",
      "3\n",
      "4\n",
      "5\n"
     ]
    }
   ],
   "source": [
    "all_high_qual_seqs_trimmed_32nt = []\n",
    "\n",
    "for round_seqs in all_high_qual_seqs:\n",
    "    print(all_high_qual_seqs.index(round_seqs))\n",
    "    all_high_qual_seqs_trimmed_32nt.append(filter_sequences_32nt(round_seqs))"
   ]
  },
  {
   "cell_type": "code",
   "execution_count": 8,
   "id": "936ad8fa",
   "metadata": {},
   "outputs": [],
   "source": [
    "##Check how many sequences were kept at each step"
   ]
  },
  {
   "cell_type": "code",
   "execution_count": 9,
   "id": "83c5af75",
   "metadata": {},
   "outputs": [],
   "source": [
    "summary_stats = pd.DataFrame(columns = ['Total', 'High quality'])\n",
    "for round_num in range(len(all_seqs)):\n",
    "    summary_stats.loc[round_num+1]=(len(all_seqs[round_num]), len(all_high_qual_seqs[round_num]))\n"
   ]
  },
  {
   "cell_type": "code",
   "execution_count": 10,
   "id": "ff52f359",
   "metadata": {},
   "outputs": [],
   "source": [
    "#Plot number of sequences each distance from RS1 for each round and plot heatmap"
   ]
  },
  {
   "cell_type": "code",
   "execution_count": 12,
   "id": "fdfc13d8",
   "metadata": {},
   "outputs": [
    {
     "name": "stdout",
     "output_type": "stream",
     "text": [
      "1\n",
      "2\n",
      "3\n",
      "4\n",
      "5\n",
      "6\n"
     ]
    },
    {
     "data": {
      "image/png": "[encoded data removed]",
      "text/plain": [
       "<Figure size 1080x144 with 2 Axes>"
      ]
     },
     "metadata": {
      "needs_background": "light"
     },
     "output_type": "display_data"
    }
   ],
   "source": [
    "rs1 = 'GAATGCTGCCAACCGTGCGGGCTAATTGGCAGACTGAGCT'\n",
    "\n",
    "heatmap_mutation_data = []\n",
    "for round in range(1,7):\n",
    "    print(round)\n",
    "    \n",
    "    raw_seqs = all_high_qual_seqs_trimmed_32nt[round-1]\n",
    "\n",
    "    seqs = raw_seqs\n",
    "    \n",
    "    distances = []\n",
    "    for seq in seqs:\n",
    "        distances.append(sum([1 for x, y in zip(rs1, seq) if x.lower() != y.lower()]))\n",
    "    distances_counted = dict(Counter(distances))\n",
    "\n",
    "    labels = [x[0] for x in list(distances_counted.items())]\n",
    "    for i in list((set(labels)^set(range(41)))):\n",
    "        distances_counted[i]=0\n",
    "    mutations = [x[1] for x in sorted(distances_counted.items())]\n",
    "\n",
    "    heatmap_mutation_data.append(np.array(mutations)/len(seqs))\n",
    "\n",
    "plt.figure(figsize=(15,2))\n",
    "yticklabels = range(1,7)\n",
    "sns.heatmap(heatmap_mutation_data,yticklabels=yticklabels)\n",
    "plt.ylabel('Round')\n",
    "plt.xlabel('Number of mutations from RS1')\n",
    "plt.savefig('../figures/mutations_from_rs1.jpg', dpi=600)"
   ]
  },
  {
   "cell_type": "code",
   "execution_count": 13,
   "id": "074ce38c",
   "metadata": {},
   "outputs": [],
   "source": [
    "#Find the abundance of the sequences with >100 reads in CS3 over all rounds"
   ]
  },
  {
   "cell_type": "code",
   "execution_count": 15,
   "id": "35776d22",
   "metadata": {},
   "outputs": [
    {
     "name": "stdout",
     "output_type": "stream",
     "text": [
      "1\n",
      "2\n",
      "3\n",
      "4\n",
      "5\n",
      "6\n"
     ]
    },
    {
     "name": "stderr",
     "output_type": "stream",
     "text": [
      "<ipython-input-15-eea5801614a7>:24: RuntimeWarning: divide by zero encountered in log\n",
      "  sns.heatmap(np.log(heatmap_data), vmin = 0, yticklabels = range(1,7), xticklabels = range(1,69))\n"
     ]
    },
    {
     "data": {
      "image/png": "[encoded data removed]",
      "text/plain": [
       "<Figure size 1440x144 with 2 Axes>"
      ]
     },
     "metadata": {
      "needs_background": "light"
     },
     "output_type": "display_data"
    }
   ],
   "source": [
    "#Find sequences with >100 reads in CS3\n",
    "data = pd.read_csv('../data/ppp_clusters.csv')\n",
    "cs3_cluster = data[data.Cluster==5]\n",
    "cs3_cluster_g100 = list(cs3_cluster[cs3_cluster.Reads>100].Seq)\n",
    "\n",
    "#Track their reads by round\n",
    "heatmap_data = []\n",
    "for round in range(1,7):\n",
    "    print(round)\n",
    "    raw_seqs = all_high_qual_seqs_trimmed_32nt[round-1]\n",
    "    \n",
    "    seq_data = []\n",
    "    for seq in cs3_cluster_g100:\n",
    "        if seq in raw_seqs:\n",
    "            reads = raw_seqs.count(seq)\n",
    "        else:\n",
    "            reads = 0\n",
    "        seq_data.append(reads)\n",
    "    heatmap_data.append(seq_data)\n",
    "    \n",
    "plt.figure(figsize=(20,2))\n",
    "plt.ylabel('Round')\n",
    "plt.xlabel('Number of mutations from RS1')\n",
    "sns.heatmap(np.log(heatmap_data), vmin = 0, yticklabels = range(1,7), xticklabels = range(1,69))\n",
    "plt.savefig('../figures/mutations_in_cs3_cluster.jpg', dpi=600)"
   ]
  },
  {
   "cell_type": "code",
   "execution_count": null,
   "id": "7433e323",
   "metadata": {},
   "outputs": [],
   "source": []
  }
 ],
 "metadata": {
  "kernelspec": {
   "display_name": "Python 3",
   "language": "python",
   "name": "python3"
  },
  "language_info": {
   "codemirror_mode": {
    "name": "ipython",
    "version": 3
   },
   "file_extension": ".py",
   "mimetype": "text/x-python",
   "name": "python",
   "nbconvert_exporter": "python",
   "pygments_lexer": "ipython3",
   "version": "3.8.8"
  }
 },
 "nbformat": 4,
 "nbformat_minor": 5
}
