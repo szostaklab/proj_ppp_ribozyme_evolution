{
 "cells": [
  {
   "cell_type": "markdown",
   "metadata": {
    "colab_type": "text",
    "id": "view-in-github"
   },
   "source": [
    "<a href=\"https://colab.research.google.com/github/szostaklab/AI_PPP_Ribozyme/blob/main/code/CS1_5_Figs.ipynb\" target=\"_parent\"><img src=\"https://colab.research.google.com/assets/colab-badge.svg\" alt=\"Open In Colab\"/></a>"
   ]
  },
  {
   "cell_type": "code",
   "execution_count": 1,
   "metadata": {
    "id": "8F9CmBYwW0Xy"
   },
   "outputs": [],
   "source": [
    "import pandas as pd\n",
    "from collections import Counter\n",
    "import numpy as np\n",
    "import math\n",
    "import matplotlib.pyplot as plt\n",
    "import seaborn as sns\n",
    "import networkx as nx\n",
    "from numpy import inf\n",
    "from numbers import Number\n",
    "from matplotlib.colors import LogNorm, Normalize"
   ]
  },
  {
   "cell_type": "code",
   "execution_count": 4,
   "metadata": {
    "id": "YKX6KPd0XFHI"
   },
   "outputs": [],
   "source": [
    "#Import pre-processed data\n",
    "path_to_data = '/Users/zoeweiss/Desktop/Desktop/lab(s)/szostak/ppp_manuscript_revision/'\n",
    "data = pd.read_csv(path_to_data+'ppp_new_clusters_FINAL.csv', sep = ',')\n",
    "#Identify the peak sequences from each cluster\n",
    "peak_seqs = data.drop_duplicates('Cluster')\n",
    "#RS1 is the starting sequence that was mutagenized\n",
    "rs1 = 'GAATGCTGCCAACCGTGCGGGCTAATTGGCAGACTGAGCT'"
   ]
  },
  {
   "cell_type": "code",
   "execution_count": 6,
   "metadata": {
    "colab": {
     "base_uri": "https://localhost:8080/",
     "height": 155
    },
    "id": "JGJ4oXmHXMJl",
    "outputId": "a5e57952-f4bd-4f74-adea-3a61217e9a27"
   },
   "outputs": [
    {
     "name": "stdout",
     "output_type": "stream",
     "text": [
      "1\n",
      "2\n",
      "3\n",
      "4\n",
      "5\n",
      "6\n"
     ]
    },
    {
     "data": {
      "image/png": "[encoded data removed]",
      "text/plain": [
       "<Figure size 1080x144 with 2 Axes>"
      ]
     },
     "metadata": {
      "needs_background": "light"
     },
     "output_type": "display_data"
    }
   ],
   "source": [
    "#Plot number of sequences each distance from RS1 for each round and plot heatmap\n",
    "heatmap_mutation_data = []\n",
    "for round in range(1,7):\n",
    "    print(round)\n",
    "    raw_seqs = open(path_to_data+'/preprocessed_seqs_all_rounds/Round'+str(round)+'_Correct_BPS_g1counts.txt').readlines()[1::2]\n",
    "    counts = open(path_to_data+'/preprocessed_seqs_all_rounds/Round'+str(round)+'_Correct_BPS_g1counts.txt').readlines()[::2]\n",
    "\n",
    "    seqs = []\n",
    "    for i in range(len(counts)):\n",
    "        seqs+=([raw_seqs[i]]*int(counts[i].split('>')[1]))\n",
    "\n",
    "    distances = []\n",
    "    for seq in seqs:\n",
    "        distances.append(sum([1 for x, y in zip(rs1, seq) if x.lower() != y.lower()]))\n",
    "    distances_counted = dict(Counter(distances))\n",
    "\n",
    "    labels = [x[0] for x in list(distances_counted.items())]\n",
    "    for i in list((set(labels)^set(range(41)))):\n",
    "        distances_counted[i]=0\n",
    "    mutations = [x[1] for x in sorted(distances_counted.items())]\n",
    "\n",
    "    heatmap_mutation_data.append(np.array(mutations)/len(seqs))\n",
    "\n",
    "plt.figure(figsize=(15,2))\n",
    "yticklabels = range(1,7)\n",
    "sns.heatmap(heatmap_mutation_data,yticklabels=yticklabels)\n",
    "plt.ylabel('Round')\n",
    "plt.xlabel('Number of mutations from RS1')\n",
    "plt.savefig('mutations_from_rs1.jpg', dpi=600)"
   ]
  },
  {
   "cell_type": "code",
   "execution_count": 38,
   "metadata": {
    "colab": {
     "base_uri": "https://localhost:8080/",
     "height": 1000
    },
    "id": "h3cZbcWqHmBC",
    "outputId": "effd0eda-692d-4f2c-da72-769710b47184"
   },
   "outputs": [],
   "source": [
    "#Find the abundance of the sequences with >100 reads in CS3 over all rounds\n",
    "\n",
    "#Find sequences with >100 reads in CS3\n",
    "cs3_cluster = data[data.Cluster==5]\n",
    "cs3_cluster_g100 = list(cs3_cluster[cs3_cluster.Reads>100].Seq)\n",
    "\n",
    "#Track their reads by round\n"
   ]
  },
  {
   "cell_type": "code",
   "execution_count": 51,
   "metadata": {},
   "outputs": [
    {
     "name": "stdout",
     "output_type": "stream",
     "text": [
      "1\n",
      "2\n",
      "3\n",
      "4\n",
      "5\n",
      "6\n"
     ]
    }
   ],
   "source": [
    "heatmap_data = []\n",
    "for round in range(1,7):\n",
    "    print(round)\n",
    "    raw_seqs = open(path_to_data+'/preprocessed_seqs_all_rounds/Round'+str(round)+'_Correct_BPS_g1counts.txt').readlines()[1::2]\n",
    "    counts = open(path_to_data+'/preprocessed_seqs_all_rounds/Round'+str(round)+'_Correct_BPS_g1counts.txt').readlines()[::2]\n",
    "    seq_data = []\n",
    "    for seq in cs3_cluster_g100:\n",
    "        if seq+'\\n' in raw_seqs:\n",
    "            reads = int(counts[raw_seqs.index(seq+'\\n')].strip('>'))\n",
    "        else:\n",
    "            reads = 0\n",
    "        seq_data.append(reads)\n",
    "    heatmap_data.append(seq_data)\n"
   ]
  },
  {
   "cell_type": "code",
   "execution_count": 64,
   "metadata": {},
   "outputs": [
    {
     "name": "stderr",
     "output_type": "stream",
     "text": [
      "<ipython-input-64-848cc035336b>:1: RuntimeWarning: divide by zero encountered in log\n",
      "  sns.heatmap(np.log(heatmap_data), vmin = 0,)\n"
     ]
    },
    {
     "data": {
      "text/plain": [
       "<Axes: >"
      ]
     },
     "execution_count": 64,
     "metadata": {},
     "output_type": "execute_result"
    },
    {
     "data": {
      "image/png": "[encoded data removed]",
      "text/plain": [
       "<Figure size 432x288 with 2 Axes>"
      ]
     },
     "metadata": {},
     "output_type": "display_data"
    }
   ],
   "source": [
    "sns.heatmap(np.log(heatmap_data), vmin = 0,)"
   ]
  },
  {
   "cell_type": "code",
   "execution_count": null,
   "metadata": {},
   "outputs": [],
   "source": []
  }
 ],
 "metadata": {
  "colab": {
   "authorship_tag": "ABX9TyOA+y3PUZsI0oNrHuY/anq6",
   "include_colab_link": true,
   "provenance": []
  },
  "kernelspec": {
   "display_name": "Python 3",
   "language": "python",
   "name": "python3"
  },
  "language_info": {
   "codemirror_mode": {
    "name": "ipython",
    "version": 3
   },
   "file_extension": ".py",
   "mimetype": "text/x-python",
   "name": "python",
   "nbconvert_exporter": "python",
   "pygments_lexer": "ipython3",
   "version": "3.8.8"
  }
 },
 "nbformat": 4,
 "nbformat_minor": 1
}
